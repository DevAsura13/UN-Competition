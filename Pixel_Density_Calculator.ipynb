{
 "cells": [
  {
   "cell_type": "code",
   "execution_count": 22,
   "id": "48127d9d",
   "metadata": {
    "scrolled": true
   },
   "outputs": [
    {
     "name": "stdout",
     "output_type": "stream",
     "text": [
      "Requirement already satisfied: scikit-image in c:\\users\\dell\\anaconda3\\lib\\site-packages (0.18.1)\n",
      "Collecting scikit-image\n",
      "  Downloading scikit_image-0.19.2-cp38-cp38-win_amd64.whl (12.6 MB)\n",
      "Requirement already satisfied: pillow!=7.1.0,!=7.1.1,!=8.3.0,>=6.1.0 in c:\\users\\dell\\anaconda3\\lib\\site-packages (from scikit-image) (8.2.0)\n",
      "Requirement already satisfied: tifffile>=2019.7.26 in c:\\users\\dell\\anaconda3\\lib\\site-packages (from scikit-image) (2021.4.8)\n",
      "Requirement already satisfied: scipy>=1.4.1 in c:\\users\\dell\\anaconda3\\lib\\site-packages (from scikit-image) (1.6.2)\n",
      "Requirement already satisfied: imageio>=2.4.1 in c:\\users\\dell\\anaconda3\\lib\\site-packages (from scikit-image) (2.9.0)\n",
      "Requirement already satisfied: PyWavelets>=1.1.1 in c:\\users\\dell\\anaconda3\\lib\\site-packages (from scikit-image) (1.1.1)\n",
      "Requirement already satisfied: numpy>=1.17.0 in c:\\users\\dell\\anaconda3\\lib\\site-packages (from scikit-image) (1.20.1)\n",
      "Requirement already satisfied: networkx>=2.2 in c:\\users\\dell\\anaconda3\\lib\\site-packages (from scikit-image) (2.5)\n",
      "Requirement already satisfied: packaging>=20.0 in c:\\users\\dell\\anaconda3\\lib\\site-packages (from scikit-image) (20.9)\n",
      "Requirement already satisfied: decorator>=4.3.0 in c:\\users\\dell\\anaconda3\\lib\\site-packages (from networkx>=2.2->scikit-image) (5.0.6)\n",
      "Requirement already satisfied: pyparsing>=2.0.2 in c:\\users\\dell\\anaconda3\\lib\\site-packages (from packaging>=20.0->scikit-image) (2.4.7)\n",
      "Installing collected packages: scikit-image\n",
      "  Attempting uninstall: scikit-image\n",
      "    Found existing installation: scikit-image 0.18.1\n",
      "    Uninstalling scikit-image-0.18.1:\n",
      "      Successfully uninstalled scikit-image-0.18.1\n",
      "Successfully installed scikit-image-0.19.2\n"
     ]
    }
   ],
   "source": [
    "!pip install -U scikit-image"
   ]
  },
  {
   "cell_type": "code",
   "execution_count": 29,
   "id": "aef229b3",
   "metadata": {},
   "outputs": [],
   "source": [
    "# Importing libraries \n",
    "\n",
    "import numpy as np\n",
    "from skimage import io\n",
    "from skimage import color"
   ]
  },
  {
   "cell_type": "code",
   "execution_count": 31,
   "id": "5fe8acd4",
   "metadata": {},
   "outputs": [
    {
     "ename": "NameError",
     "evalue": "name 'path' is not defined",
     "output_type": "error",
     "traceback": [
      "\u001b[1;31m---------------------------------------------------------------------------\u001b[0m",
      "\u001b[1;31mNameError\u001b[0m                                 Traceback (most recent call last)",
      "\u001b[1;32m<ipython-input-31-0dc906c42ea7>\u001b[0m in \u001b[0;36m<module>\u001b[1;34m\u001b[0m\n\u001b[1;32m----> 1\u001b[1;33m \u001b[0mimg\u001b[0m \u001b[1;33m=\u001b[0m \u001b[0mio\u001b[0m\u001b[1;33m.\u001b[0m\u001b[0mimread\u001b[0m\u001b[1;33m(\u001b[0m\u001b[0mpath\u001b[0m\u001b[1;33m)\u001b[0m\u001b[1;33m\u001b[0m\u001b[1;33m\u001b[0m\u001b[0m\n\u001b[0m",
      "\u001b[1;31mNameError\u001b[0m: name 'path' is not defined"
     ]
    }
   ],
   "source": [
    "img = io.imread(path_)"
   ]
  },
  {
   "cell_type": "code",
   "execution_count": 36,
   "id": "27140cac",
   "metadata": {
    "scrolled": false
   },
   "outputs": [
    {
     "name": "stdout",
     "output_type": "stream",
     "text": [
      "0.9039648472042773\n"
     ]
    },
    {
     "name": "stderr",
     "output_type": "stream",
     "text": [
      "<ipython-input-36-cba0e512ea13>:1: FutureWarning: Non RGB image conversion is now deprecated. For RGBA images, please use rgb2gray(rgba2rgb(rgb)) instead. In version 0.19, a ValueError will be raised if input image last dimension length is not 3.\n",
      "  imgP=color.rgb2gray(io.imread('Elk_Grove.png'))\n"
     ]
    }
   ],
   "source": [
    "imgP=color.rgb2gray(io.imread('Elk_Grove.png'))\n",
    "imgP=np.flip(imgP, axis=0)\n",
    "imgP.mean()\n",
    "print(imgP.mean())"
   ]
  },
  {
   "cell_type": "code",
   "execution_count": null,
   "id": "eecfc632",
   "metadata": {},
   "outputs": [],
   "source": []
  }
 ],
 "metadata": {
  "kernelspec": {
   "display_name": "Python 3",
   "language": "python",
   "name": "python3"
  },
  "language_info": {
   "codemirror_mode": {
    "name": "ipython",
    "version": 3
   },
   "file_extension": ".py",
   "mimetype": "text/x-python",
   "name": "python",
   "nbconvert_exporter": "python",
   "pygments_lexer": "ipython3",
   "version": "3.8.8"
  }
 },
 "nbformat": 4,
 "nbformat_minor": 5
}
